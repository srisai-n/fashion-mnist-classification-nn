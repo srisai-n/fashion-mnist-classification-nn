{
 "cells": [
  {
   "cell_type": "markdown",
   "metadata": {},
   "source": [
    "# CSE 574 Introduction to Machine Learning Fall 2019 Project 2\n",
    "# Neural Network based Classification of Fashion Clothing Images\n",
    "## Srisai Karthik Neelamraju, neelamra@buffalo.edu"
   ]
  },
  {
   "cell_type": "markdown",
   "metadata": {},
   "source": [
    "### Importing the required libraries"
   ]
  },
  {
   "cell_type": "code",
   "execution_count": 1,
   "metadata": {},
   "outputs": [
    {
     "name": "stderr",
     "output_type": "stream",
     "text": [
      "Using TensorFlow backend.\n"
     ]
    }
   ],
   "source": [
    "import numpy as np\n",
    "from sklearn import preprocessing, metrics\n",
    "import matplotlib.pyplot as plt\n",
    "import util_mnist_reader\n",
    "import keras\n",
    "# %load_ext tensorboard"
   ]
  },
  {
   "cell_type": "markdown",
   "metadata": {},
   "source": [
    "### Helper Functions"
   ]
  },
  {
   "cell_type": "code",
   "execution_count": 2,
   "metadata": {},
   "outputs": [],
   "source": [
    "# function to calculate logistic sigmoid\n",
    "def sigmoid(z):\n",
    "    return 1 / (1 + np.exp(-z))\n",
    "\n",
    "# function to calculate softmax\n",
    "def softmax(z):\n",
    "    exp = np.exp(z)\n",
    "    return exp / np.sum(exp, axis=0, keepdims=True)\n",
    "\n",
    "# function to calculate accuracy\n",
    "def get_accuracy(Y_expected, Y_pred):\n",
    "    return metrics.accuracy_score(Y_expected, Y_pred)\n",
    "\n",
    "# function to calculate confusion matrix\n",
    "def get_confusion_matrix(Y_expected, Y_pred):\n",
    "    return metrics.confusion_matrix(Y_expected, Y_pred)\n",
    "\n",
    "# function to split training data into mini batches\n",
    "# concept from https://www.geeksforgeeks.org/ml-mini-batch-gradient-descent-with-python/\n",
    "def split_into_minibatches(X_train, Y_train, minibatch_size):\n",
    "    n_features = X_train.shape[0]\n",
    "    n_train = X_train.shape[1]\n",
    "    n_minibatch = n_train // minibatch_size\n",
    "    stacked_data = np.vstack((X_train, Y_train))\n",
    "    np.random.shuffle(stacked_data.T)\n",
    "    minibatches = []\n",
    "    for i in range(n_minibatch):\n",
    "        start = i * minibatch_size\n",
    "        end = (i + 1) * minibatch_size\n",
    "        minibatch = stacked_data[:, start:end]\n",
    "        X_minibatch = minibatch[:n_features, :]\n",
    "        Y_minibatch = minibatch[n_features:, :]\n",
    "        minibatches.append((X_minibatch, Y_minibatch))\n",
    "    if n_train % minibatch_size == 0:\n",
    "        return minibatches\n",
    "    start = n_minibatch * minibatch_size\n",
    "    end = n_train\n",
    "    minibatch = stacked_data[:, start:end]\n",
    "    X_minibatch = minibatch[:n_features, :]\n",
    "    Y_minibatch = minibatch[n_features:, :]\n",
    "    minibatches.append((X_minibatch, Y_minibatch))\n",
    "    return minibatches"
   ]
  },
  {
   "cell_type": "markdown",
   "metadata": {},
   "source": [
    "### Reading the Fashion MNIST dataset"
   ]
  },
  {
   "cell_type": "code",
   "execution_count": 3,
   "metadata": {},
   "outputs": [],
   "source": [
    "# training data\n",
    "X_train, Y_train = util_mnist_reader.load_mnist('data/fashion', kind='train')\n",
    "\n",
    "# test data\n",
    "X_test, Y_test = util_mnist_reader.load_mnist('data/fashion', kind='t10k')"
   ]
  },
  {
   "cell_type": "markdown",
   "metadata": {},
   "source": [
    "### Reshaping the testing data"
   ]
  },
  {
   "cell_type": "code",
   "execution_count": 4,
   "metadata": {},
   "outputs": [],
   "source": [
    "# reshaping Y_train and Y_test to get rid of rank 1 Python arrays\n",
    "Y_train = np.array(Y_train).reshape(Y_train.shape[0], 1)\n",
    "Y_test = np.array(Y_test).reshape(Y_test.shape[0], 1)"
   ]
  },
  {
   "cell_type": "markdown",
   "metadata": {},
   "source": [
    "## Task 1: Implementing single layer Fully Connected Neural Network"
   ]
  },
  {
   "cell_type": "markdown",
   "metadata": {},
   "source": [
    "### Preprocessing the dataset"
   ]
  },
  {
   "cell_type": "code",
   "execution_count": 5,
   "metadata": {},
   "outputs": [],
   "source": [
    "# flattening the 28 x 28 input images\n",
    "X_train_nn = X_train.reshape(X_train.shape[0], 784)\n",
    "X_test_nn = X_test.reshape(X_test.shape[0], 784)\n",
    "\n",
    "# standard scaling of the features\n",
    "X_train_nn = preprocessing.scale(X_train_nn)\n",
    "X_test_nn = preprocessing.scale(X_test_nn)\n",
    "\n",
    "# reshaping X_train_nn and X_test_nn such that features are along the rows and instances are along the columns\n",
    "X_train_nn = X_train_nn.T\n",
    "X_test_nn = X_test_nn.T"
   ]
  },
  {
   "cell_type": "markdown",
   "metadata": {},
   "source": [
    "### One-hot encoding the output labels"
   ]
  },
  {
   "cell_type": "code",
   "execution_count": 6,
   "metadata": {},
   "outputs": [],
   "source": [
    "one_hot = preprocessing.OneHotEncoder(categories=[[0, 1, 2, 3, 4, 5, 6, 7, 8, 9]], sparse=False)\n",
    "Y_train_nn = one_hot.fit_transform(Y_train)\n",
    "Y_test_nn = one_hot.fit_transform(Y_test)\n",
    "\n",
    "# reshaping Y_train_nn and Y_test_nn such that instances are along the columns\n",
    "Y_train_nn = Y_train_nn.T\n",
    "Y_test_nn = Y_test_nn.T"
   ]
  },
  {
   "cell_type": "markdown",
   "metadata": {},
   "source": [
    "### Defining hyperparameters for training the network"
   ]
  },
  {
   "cell_type": "code",
   "execution_count": 7,
   "metadata": {},
   "outputs": [],
   "source": [
    "# number of units in the hidden and the output layers\n",
    "n_hidden = 128\n",
    "n_out = 10\n",
    "\n",
    "# number of epochs for training\n",
    "epochs = 50\n",
    "\n",
    "# mini-batch size\n",
    "minibatch_size = 32\n",
    "\n",
    "# learning rate for gradient descent\n",
    "lr_nn = 0.03"
   ]
  },
  {
   "cell_type": "markdown",
   "metadata": {},
   "source": [
    "### Initializing weights and biases"
   ]
  },
  {
   "cell_type": "code",
   "execution_count": 8,
   "metadata": {},
   "outputs": [],
   "source": [
    "W1 = np.random.randn(n_hidden, X_train_nn.shape[0])\n",
    "b1 = np.zeros([n_hidden, 1])\n",
    "W2 = np.random.randn(n_out, n_hidden)\n",
    "b2 = np.zeros([n_out, 1])"
   ]
  },
  {
   "cell_type": "markdown",
   "metadata": {},
   "source": [
    "### Training the single layer neural network"
   ]
  },
  {
   "cell_type": "code",
   "execution_count": 9,
   "metadata": {},
   "outputs": [
    {
     "name": "stdout",
     "output_type": "stream",
     "text": [
      "Epoch 1/50 - loss: 1.2077 - acc: 0.7866 - val_loss: 0.8940 - val_acc: 0.7771\n",
      "Epoch 2/50 - loss: 0.7738 - acc: 0.8110 - val_loss: 0.7610 - val_acc: 0.7961\n",
      "Epoch 3/50 - loss: 0.6566 - acc: 0.8239 - val_loss: 0.6913 - val_acc: 0.8094\n",
      "Epoch 4/50 - loss: 0.5940 - acc: 0.8300 - val_loss: 0.6560 - val_acc: 0.8137\n",
      "Epoch 5/50 - loss: 0.5472 - acc: 0.8386 - val_loss: 0.6244 - val_acc: 0.8203\n",
      "Epoch 6/50 - loss: 0.5179 - acc: 0.8443 - val_loss: 0.5945 - val_acc: 0.8221\n",
      "Epoch 7/50 - loss: 0.4922 - acc: 0.8472 - val_loss: 0.5835 - val_acc: 0.8242\n",
      "Epoch 8/50 - loss: 0.4742 - acc: 0.8480 - val_loss: 0.5740 - val_acc: 0.8232\n",
      "Epoch 9/50 - loss: 0.4594 - acc: 0.8508 - val_loss: 0.5607 - val_acc: 0.8269\n",
      "Epoch 10/50 - loss: 0.4492 - acc: 0.8528 - val_loss: 0.5440 - val_acc: 0.8297\n",
      "Epoch 11/50 - loss: 0.4396 - acc: 0.8539 - val_loss: 0.5306 - val_acc: 0.8340\n",
      "Epoch 12/50 - loss: 0.4318 - acc: 0.8558 - val_loss: 0.5253 - val_acc: 0.8351\n",
      "Epoch 13/50 - loss: 0.4259 - acc: 0.8597 - val_loss: 0.5198 - val_acc: 0.8348\n",
      "Epoch 14/50 - loss: 0.4200 - acc: 0.8587 - val_loss: 0.5105 - val_acc: 0.8358\n",
      "Epoch 15/50 - loss: 0.4147 - acc: 0.8615 - val_loss: 0.5073 - val_acc: 0.8369\n",
      "Epoch 16/50 - loss: 0.4084 - acc: 0.8618 - val_loss: 0.5071 - val_acc: 0.8350\n",
      "Epoch 17/50 - loss: 0.4043 - acc: 0.8638 - val_loss: 0.4978 - val_acc: 0.8368\n",
      "Epoch 18/50 - loss: 0.3992 - acc: 0.8644 - val_loss: 0.4959 - val_acc: 0.8370\n",
      "Epoch 19/50 - loss: 0.3931 - acc: 0.8639 - val_loss: 0.4955 - val_acc: 0.8364\n",
      "Epoch 20/50 - loss: 0.3890 - acc: 0.8658 - val_loss: 0.4897 - val_acc: 0.8408\n",
      "Epoch 21/50 - loss: 0.3873 - acc: 0.8669 - val_loss: 0.4901 - val_acc: 0.8402\n",
      "Epoch 22/50 - loss: 0.3840 - acc: 0.8669 - val_loss: 0.4821 - val_acc: 0.8404\n",
      "Epoch 23/50 - loss: 0.3821 - acc: 0.8675 - val_loss: 0.4811 - val_acc: 0.8402\n",
      "Epoch 24/50 - loss: 0.3777 - acc: 0.8668 - val_loss: 0.4830 - val_acc: 0.8402\n",
      "Epoch 25/50 - loss: 0.3752 - acc: 0.8677 - val_loss: 0.4794 - val_acc: 0.8375\n",
      "Epoch 26/50 - loss: 0.3732 - acc: 0.8686 - val_loss: 0.4795 - val_acc: 0.8392\n",
      "Epoch 27/50 - loss: 0.3721 - acc: 0.8698 - val_loss: 0.4751 - val_acc: 0.8411\n",
      "Epoch 28/50 - loss: 0.3698 - acc: 0.8713 - val_loss: 0.4735 - val_acc: 0.8415\n",
      "Epoch 29/50 - loss: 0.3687 - acc: 0.8702 - val_loss: 0.4718 - val_acc: 0.8446\n",
      "Epoch 30/50 - loss: 0.3675 - acc: 0.8713 - val_loss: 0.4717 - val_acc: 0.8430\n",
      "Epoch 31/50 - loss: 0.3672 - acc: 0.8701 - val_loss: 0.4706 - val_acc: 0.8439\n",
      "Epoch 32/50 - loss: 0.3652 - acc: 0.8677 - val_loss: 0.4759 - val_acc: 0.8390\n",
      "Epoch 33/50 - loss: 0.3651 - acc: 0.8709 - val_loss: 0.4674 - val_acc: 0.8424\n",
      "Epoch 34/50 - loss: 0.3627 - acc: 0.8690 - val_loss: 0.4706 - val_acc: 0.8414\n",
      "Epoch 35/50 - loss: 0.3624 - acc: 0.8720 - val_loss: 0.4655 - val_acc: 0.8451\n",
      "Epoch 36/50 - loss: 0.3621 - acc: 0.8705 - val_loss: 0.4683 - val_acc: 0.8430\n",
      "Epoch 37/50 - loss: 0.3612 - acc: 0.8717 - val_loss: 0.4630 - val_acc: 0.8434\n",
      "Epoch 38/50 - loss: 0.3606 - acc: 0.8721 - val_loss: 0.4599 - val_acc: 0.8433\n",
      "Epoch 39/50 - loss: 0.3582 - acc: 0.8706 - val_loss: 0.4651 - val_acc: 0.8431\n",
      "Epoch 40/50 - loss: 0.3563 - acc: 0.8706 - val_loss: 0.4636 - val_acc: 0.8455\n",
      "Epoch 41/50 - loss: 0.3573 - acc: 0.8730 - val_loss: 0.4602 - val_acc: 0.8452\n",
      "Epoch 42/50 - loss: 0.3572 - acc: 0.8729 - val_loss: 0.4560 - val_acc: 0.8453\n",
      "Epoch 43/50 - loss: 0.3558 - acc: 0.8729 - val_loss: 0.4550 - val_acc: 0.8454\n",
      "Epoch 44/50 - loss: 0.3546 - acc: 0.8727 - val_loss: 0.4543 - val_acc: 0.8468\n",
      "Epoch 45/50 - loss: 0.3544 - acc: 0.8723 - val_loss: 0.4536 - val_acc: 0.8465\n",
      "Epoch 46/50 - loss: 0.3534 - acc: 0.8711 - val_loss: 0.4582 - val_acc: 0.8434\n",
      "Epoch 47/50 - loss: 0.3530 - acc: 0.8725 - val_loss: 0.4519 - val_acc: 0.8488\n",
      "Epoch 48/50 - loss: 0.3527 - acc: 0.8726 - val_loss: 0.4499 - val_acc: 0.8470\n",
      "Epoch 49/50 - loss: 0.3520 - acc: 0.8742 - val_loss: 0.4501 - val_acc: 0.8477\n",
      "Epoch 50/50 - loss: 0.3507 - acc: 0.8717 - val_loss: 0.4548 - val_acc: 0.8464\n"
     ]
    }
   ],
   "source": [
    "# number of training and testing examples\n",
    "n_train = X_train_nn.shape[1]\n",
    "n_test = X_test_nn.shape[1]\n",
    "                \n",
    "# lists to keep track of training and validation losses\n",
    "loss_train = []\n",
    "loss_val = []\n",
    "\n",
    "# lists to keep track of training and validation accuracies\n",
    "accuracy_train = []\n",
    "accuracy_val = []\n",
    "\n",
    "# implementing the algorithm for \"epochs\" number of iterations over the training set\n",
    "for epoch in range(1, epochs + 1):\n",
    "    \n",
    "    # intializing the training loss to zero at the beginning of each epoch\n",
    "    epoch_loss_train = 0\n",
    "    \n",
    "    # splitting the training set into mini-batches\n",
    "    minibatches = split_into_minibatches(X_train_nn, Y_train_nn, minibatch_size)\n",
    "    \n",
    "    for minibatch in minibatches:\n",
    "        \n",
    "        # input features and outputs for each mini-batch\n",
    "        X_minibatch = minibatch[0]\n",
    "        Y_minibatch = minibatch[1]\n",
    "\n",
    "        # first layer of neural network\n",
    "        Z1 = np.dot(W1, X_minibatch) + b1\n",
    "        A1 = sigmoid(Z1)\n",
    "\n",
    "        # second layer of neural network\n",
    "        Z2 = np.dot(W2, A1) + b2\n",
    "        A2 = softmax(Z2)\n",
    "\n",
    "        # loss function\n",
    "        epoch_loss_train += - np.sum(np.multiply(Y_minibatch, np.log(A2)))\n",
    "\n",
    "        # backward propagation\n",
    "        dZ2 = A2 - Y_minibatch\n",
    "        dW2 = (1/minibatch_size) * np.dot(dZ2, A1.T)\n",
    "        db2 = (1/minibatch_size) * np.sum(dZ2, axis = 1, keepdims=True)\n",
    "        dA1 = np.dot(W2.T, dZ2)\n",
    "        dZ1 = np.multiply(dA1, (1 - np.power(A1, 2)))\n",
    "        dW1 = (1/minibatch_size) * np.dot(dZ1, X_minibatch.T)\n",
    "        db1 = (1/minibatch_size) * np.sum(dZ1, axis = 1, keepdims=True)\n",
    "\n",
    "        # gradient descent\n",
    "        W2 = W2 - lr_nn * dW2\n",
    "        b2 = b2 - lr_nn * db2\n",
    "        W1 = W1 - lr_nn * dW1\n",
    "        b1 = b1 - lr_nn * db1\n",
    "        \n",
    "    # training loss after each epoch\n",
    "    epoch_loss_train = (1/n_train) * epoch_loss_train\n",
    "    loss_train.append(epoch_loss_train)\n",
    "    \n",
    "    # training accuracy after each epoch\n",
    "    Y_pred_train = softmax(np.dot(W2, sigmoid(np.dot(W1, X_train_nn) + b1)) + b2)\n",
    "    Y_pred_train = Y_pred_train.argmax(axis=0).reshape([1, n_train])\n",
    "    Y_act_train = Y_train_nn.argmax(axis=0).reshape([1, n_train])\n",
    "    acc_train = get_accuracy(Y_act_train[0], Y_pred_train[0])\n",
    "    accuracy_train.append(acc_train)\n",
    "    \n",
    "    # validation loss after each epoch\n",
    "    Y_pred_val = softmax(np.dot(W2, sigmoid(np.dot(W1, X_test_nn) + b1)) + b2)\n",
    "    epoch_loss_val = (-1/n_test) * np.sum(np.multiply(Y_test_nn, np.log(Y_pred_val)))\n",
    "    loss_val.append(epoch_loss_val)\n",
    "    \n",
    "    # validation accuracy after each epoch\n",
    "    Y_pred_val = Y_pred_val.argmax(axis=0).reshape([1, n_test])\n",
    "    Y_act_val = Y_test_nn.argmax(axis=0).reshape([1, n_test])\n",
    "    acc_val = get_accuracy(Y_act_val[0], Y_pred_val[0])\n",
    "    accuracy_val.append(acc_val)\n",
    "    \n",
    "    print(\"Epoch \" + str(epoch) + \"/\" + str(epochs) + \" - loss: \" + \"{:.4f}\".format(epoch_loss_train) + \" - acc: \" + \"{:.4f}\".format(acc_train) + \" - val_loss: \" + \"{:.4f}\".format(epoch_loss_val) + \" - val_acc: \" + \"{:.4f}\".format(acc_val))"
   ]
  },
  {
   "cell_type": "markdown",
   "metadata": {},
   "source": [
    "### Comparing loss for training and validation sets"
   ]
  },
  {
   "cell_type": "code",
   "execution_count": 10,
   "metadata": {},
   "outputs": [
    {
     "data": {
      "image/png": "[encoded data removed]",
      "text/plain": [
       "<Figure size 432x288 with 1 Axes>"
      ]
     },
     "metadata": {
      "needs_background": "light"
     },
     "output_type": "display_data"
    },
    {
     "data": {
      "text/plain": [
       "<Figure size 432x288 with 0 Axes>"
      ]
     },
     "execution_count": 10,
     "metadata": {},
     "output_type": "execute_result"
    },
    {
     "data": {
      "text/plain": [
       "<Figure size 432x288 with 0 Axes>"
      ]
     },
     "metadata": {},
     "output_type": "display_data"
    }
   ],
   "source": [
    "plt.plot(range(1, epochs + 1), loss_train, color='red', linestyle='dashed', linewidth=1.4, label='training')\n",
    "plt.plot(range(1, epochs + 1), loss_val, color='orange', linestyle='dashed', linewidth=1.4, label='validation')\n",
    "plt.grid(color='#ADD8E6', linestyle='-', linewidth=0.6)\n",
    "plt.title('Comparison of training and validation loss')\n",
    "plt.xlabel('Number of epochs')\n",
    "plt.ylabel('Loss')\n",
    "plt.legend(loc='upper right')\n",
    "plt.savefig('nn_train_vs_val_loss.jpg', format='jpg', dpi=1000)\n",
    "plt.show()\n",
    "plt.figure()"
   ]
  },
  {
   "cell_type": "markdown",
   "metadata": {},
   "source": [
    "### Comparing accuracy for training and validation sets"
   ]
  },
  {
   "cell_type": "code",
   "execution_count": 11,
   "metadata": {},
   "outputs": [
    {
     "data": {
      "image/png": "[encoded data removed]",
      "text/plain": [
       "<Figure size 432x288 with 1 Axes>"
      ]
     },
     "metadata": {
      "needs_background": "light"
     },
     "output_type": "display_data"
    },
    {
     "data": {
      "text/plain": [
       "<Figure size 432x288 with 0 Axes>"
      ]
     },
     "execution_count": 11,
     "metadata": {},
     "output_type": "execute_result"
    },
    {
     "data": {
      "text/plain": [
       "<Figure size 432x288 with 0 Axes>"
      ]
     },
     "metadata": {},
     "output_type": "display_data"
    }
   ],
   "source": [
    "plt.plot(range(1, epochs + 1), accuracy_train, color='red', linestyle='dashed', linewidth=1.4, label='training')\n",
    "plt.plot(range(1, epochs + 1), accuracy_val, color='orange', linestyle='dashed', linewidth=1.4, label='validation')\n",
    "plt.grid(color='#ADD8E6', linestyle='-', linewidth=0.6)\n",
    "plt.title('Comparison of training and validation accuracy')\n",
    "plt.xlabel('Number of epochs')\n",
    "plt.ylabel('Accuracy')\n",
    "plt.legend(loc='lower right')\n",
    "plt.savefig('nn_train_vs_val_accuracy.jpg', format='jpg', dpi=1000)\n",
    "plt.show()\n",
    "plt.figure()"
   ]
  },
  {
   "cell_type": "markdown",
   "metadata": {},
   "source": [
    "### Predicting output labels for test data"
   ]
  },
  {
   "cell_type": "code",
   "execution_count": 12,
   "metadata": {},
   "outputs": [],
   "source": [
    "Y_pred_nn = softmax(np.dot(W2, sigmoid(np.dot(W1, X_test_nn) + b1)) + b2)\n",
    "Y_pred_nn = Y_pred_nn.argmax(axis=0)\n",
    "\n",
    "# reshaping Y_pred_nn to get rid of rank 1 Python arrays\n",
    "Y_pred_nn = Y_pred_nn.reshape(Y_pred_nn.shape[0], 1)"
   ]
  },
  {
   "cell_type": "markdown",
   "metadata": {},
   "source": [
    "### Evaluating the single layer NN model"
   ]
  },
  {
   "cell_type": "code",
   "execution_count": 13,
   "metadata": {},
   "outputs": [
    {
     "name": "stdout",
     "output_type": "stream",
     "text": [
      "ANALYSIS FOR SINGLE LAYER FULLY CONNECTED NEURAL NETWORK\n",
      "\n",
      "Accuracy on the test set - 0.8464 \n",
      "\n",
      "Confusion Matrix for performance on the test set -\n",
      " [[851   3  21  38   4   0  75   0   8   0]\n",
      " [  2 964   1  22   7   0   4   0   0   0]\n",
      " [ 25   3 693  12 197   3  59   0   8   0]\n",
      " [ 35  13  14 864  44   1  23   0   6   0]\n",
      " [  1   1  72  28 836   0  55   0   6   1]\n",
      " [  1   0   0   1   0 915   0  51   4  28]\n",
      " [187   5 102  28 145   3 514   0  16   0]\n",
      " [  0   0   0   0   0  29   0 937   2  32]\n",
      " [  4   0   8   5   6   8   9   6 953   1]\n",
      " [  0   0   0   1   0  19   1  40   2 937]]\n"
     ]
    }
   ],
   "source": [
    "print(\"ANALYSIS FOR SINGLE LAYER FULLY CONNECTED NEURAL NETWORK\\n\")\n",
    "\n",
    "print(\"Accuracy on the test set -\", get_accuracy(Y_test, Y_pred_nn), \"\\n\")\n",
    "print(\"Confusion Matrix for performance on the test set -\\n\", get_confusion_matrix(Y_test, Y_pred_nn))"
   ]
  },
  {
   "cell_type": "markdown",
   "metadata": {},
   "source": [
    "## Task 2: Implementing multi-layer Fully Connected Neural Network using Keras"
   ]
  },
  {
   "cell_type": "markdown",
   "metadata": {},
   "source": [
    "### Preprocessing the dataset"
   ]
  },
  {
   "cell_type": "code",
   "execution_count": 14,
   "metadata": {},
   "outputs": [],
   "source": [
    "# minmax scaling of the features to the range [0, 1]\n",
    "X_train_dnn = X_train / 255.0\n",
    "X_test_dnn = X_test / 255.0"
   ]
  },
  {
   "cell_type": "markdown",
   "metadata": {},
   "source": [
    "### Defining hyperparameters for training the network"
   ]
  },
  {
   "cell_type": "code",
   "execution_count": 15,
   "metadata": {},
   "outputs": [],
   "source": [
    "# number of epochs for training\n",
    "epochs_dnn = 15\n",
    "\n",
    "# mini-batch size\n",
    "minibatch_size_dnn = 256\n",
    "\n",
    "# learning rate of the optimizer\n",
    "lr_dnn = 0.0001"
   ]
  },
  {
   "cell_type": "markdown",
   "metadata": {},
   "source": [
    "### Defining the multi-layer neural network architecture"
   ]
  },
  {
   "cell_type": "code",
   "execution_count": 16,
   "metadata": {},
   "outputs": [
    {
     "name": "stdout",
     "output_type": "stream",
     "text": [
      "WARNING:tensorflow:From /home/nskarthik/anaconda3/lib/python3.7/site-packages/keras/backend/tensorflow_backend.py:74: The name tf.get_default_graph is deprecated. Please use tf.compat.v1.get_default_graph instead.\n",
      "\n",
      "WARNING:tensorflow:From /home/nskarthik/anaconda3/lib/python3.7/site-packages/keras/backend/tensorflow_backend.py:517: The name tf.placeholder is deprecated. Please use tf.compat.v1.placeholder instead.\n",
      "\n",
      "WARNING:tensorflow:From /home/nskarthik/anaconda3/lib/python3.7/site-packages/keras/backend/tensorflow_backend.py:4138: The name tf.random_uniform is deprecated. Please use tf.random.uniform instead.\n",
      "\n",
      "_________________________________________________________________\n",
      "Layer (type)                 Output Shape              Param #   \n",
      "=================================================================\n",
      "flatten_1 (Flatten)          (None, 784)               0         \n",
      "_________________________________________________________________\n",
      "dense_1 (Dense)              (None, 512)               401920    \n",
      "_________________________________________________________________\n",
      "dense_2 (Dense)              (None, 256)               131328    \n",
      "_________________________________________________________________\n",
      "dense_3 (Dense)              (None, 128)               32896     \n",
      "_________________________________________________________________\n",
      "dense_4 (Dense)              (None, 10)                1290      \n",
      "=================================================================\n",
      "Total params: 567,434\n",
      "Trainable params: 567,434\n",
      "Non-trainable params: 0\n",
      "_________________________________________________________________\n"
     ]
    }
   ],
   "source": [
    "dnn = keras.Sequential()\n",
    "\n",
    "dnn.add(keras.layers.Flatten(input_shape = (28, 28)))\n",
    "dnn.add(keras.layers.Dense(512, activation='relu'))\n",
    "dnn.add(keras.layers.Dense(256, activation='relu'))\n",
    "dnn.add(keras.layers.Dense(128, activation='relu'))\n",
    "dnn.add(keras.layers.Dense(10, activation='softmax'))\n",
    "\n",
    "# display the neural network architecture\n",
    "dnn.summary()"
   ]
  },
  {
   "cell_type": "markdown",
   "metadata": {},
   "source": [
    "### Compiling the model"
   ]
  },
  {
   "cell_type": "code",
   "execution_count": 17,
   "metadata": {},
   "outputs": [
    {
     "name": "stdout",
     "output_type": "stream",
     "text": [
      "WARNING:tensorflow:From /home/nskarthik/anaconda3/lib/python3.7/site-packages/keras/optimizers.py:790: The name tf.train.Optimizer is deprecated. Please use tf.compat.v1.train.Optimizer instead.\n",
      "\n",
      "WARNING:tensorflow:From /home/nskarthik/anaconda3/lib/python3.7/site-packages/keras/backend/tensorflow_backend.py:3341: The name tf.log is deprecated. Please use tf.math.log instead.\n",
      "\n"
     ]
    }
   ],
   "source": [
    "# defining the optimizer\n",
    "optimizer = keras.optimizers.Adam(lr=lr_dnn)\n",
    "\n",
    "dnn.compile(\n",
    "    loss='sparse_categorical_crossentropy',\n",
    "    optimizer=optimizer,\n",
    "    metrics=['accuracy'])\n",
    "\n",
    "# using tensorboard to visualize the model and its performance\n",
    "# tensorboard_callback_dnn = keras.callbacks.TensorBoard(log_dir=\"tensorboard/dnn\", histogram_freq=1)\n",
    "# %tensorboard --logdir tensorboard/dnn"
   ]
  },
  {
   "cell_type": "markdown",
   "metadata": {},
   "source": [
    "### Training the model"
   ]
  },
  {
   "cell_type": "code",
   "execution_count": 18,
   "metadata": {},
   "outputs": [
    {
     "name": "stdout",
     "output_type": "stream",
     "text": [
      "WARNING:tensorflow:From /home/nskarthik/anaconda3/lib/python3.7/site-packages/tensorflow/python/ops/math_grad.py:1250: add_dispatch_support.<locals>.wrapper (from tensorflow.python.ops.array_ops) is deprecated and will be removed in a future version.\n",
      "Instructions for updating:\n",
      "Use tf.where in 2.0, which has the same broadcast rule as np.where\n",
      "WARNING:tensorflow:From /home/nskarthik/anaconda3/lib/python3.7/site-packages/keras/backend/tensorflow_backend.py:986: The name tf.assign_add is deprecated. Please use tf.compat.v1.assign_add instead.\n",
      "\n",
      "Train on 60000 samples, validate on 10000 samples\n",
      "Epoch 1/15\n",
      "60000/60000 [==============================] - 7s 124us/step - loss: 0.7975 - acc: 0.7533 - val_loss: 0.5088 - val_acc: 0.8266\n",
      "Epoch 2/15\n",
      "60000/60000 [==============================] - 7s 114us/step - loss: 0.4493 - acc: 0.8460 - val_loss: 0.4562 - val_acc: 0.8380\n",
      "Epoch 3/15\n",
      "60000/60000 [==============================] - 7s 112us/step - loss: 0.4013 - acc: 0.8598 - val_loss: 0.4137 - val_acc: 0.8541\n",
      "Epoch 4/15\n",
      "60000/60000 [==============================] - 7s 111us/step - loss: 0.3724 - acc: 0.8699 - val_loss: 0.4030 - val_acc: 0.8545\n",
      "Epoch 5/15\n",
      "60000/60000 [==============================] - 7s 110us/step - loss: 0.3531 - acc: 0.8757 - val_loss: 0.3836 - val_acc: 0.8651\n",
      "Epoch 6/15\n",
      "60000/60000 [==============================] - 7s 111us/step - loss: 0.3391 - acc: 0.8799 - val_loss: 0.3783 - val_acc: 0.8662\n",
      "Epoch 7/15\n",
      "60000/60000 [==============================] - 7s 111us/step - loss: 0.3230 - acc: 0.8857 - val_loss: 0.3626 - val_acc: 0.8680\n",
      "Epoch 8/15\n",
      "60000/60000 [==============================] - 7s 113us/step - loss: 0.3133 - acc: 0.8882 - val_loss: 0.3667 - val_acc: 0.8692\n",
      "Epoch 9/15\n",
      "60000/60000 [==============================] - 7s 111us/step - loss: 0.3036 - acc: 0.8920 - val_loss: 0.3489 - val_acc: 0.8750\n",
      "Epoch 10/15\n",
      "60000/60000 [==============================] - 7s 113us/step - loss: 0.2916 - acc: 0.8955 - val_loss: 0.3486 - val_acc: 0.8740\n",
      "Epoch 11/15\n",
      "60000/60000 [==============================] - 7s 112us/step - loss: 0.2860 - acc: 0.8980 - val_loss: 0.3477 - val_acc: 0.8745\n",
      "Epoch 12/15\n",
      "60000/60000 [==============================] - 7s 113us/step - loss: 0.2769 - acc: 0.9008 - val_loss: 0.3458 - val_acc: 0.8773\n",
      "Epoch 13/15\n",
      "60000/60000 [==============================] - 7s 111us/step - loss: 0.2686 - acc: 0.9039 - val_loss: 0.3302 - val_acc: 0.8822\n",
      "Epoch 14/15\n",
      "60000/60000 [==============================] - 7s 112us/step - loss: 0.2633 - acc: 0.9060 - val_loss: 0.3318 - val_acc: 0.8824\n",
      "Epoch 15/15\n",
      "60000/60000 [==============================] - 7s 113us/step - loss: 0.2549 - acc: 0.9080 - val_loss: 0.3299 - val_acc: 0.8828\n"
     ]
    }
   ],
   "source": [
    "dnn_fit = dnn.fit(\n",
    "    X_train_dnn,\n",
    "    Y_train,\n",
    "    batch_size = minibatch_size_dnn,\n",
    "    epochs=epochs_dnn,\n",
    "    validation_data=(X_test_dnn, Y_test))\n",
    "    # callbacks=[tensorboard_callback_dnn])"
   ]
  },
  {
   "cell_type": "markdown",
   "metadata": {},
   "source": [
    "### Comparing loss for training and validation sets"
   ]
  },
  {
   "cell_type": "code",
   "execution_count": 19,
   "metadata": {},
   "outputs": [
    {
     "data": {
      "image/png": "[encoded data removed]",
      "text/plain": [
       "<Figure size 432x288 with 1 Axes>"
      ]
     },
     "metadata": {
      "needs_background": "light"
     },
     "output_type": "display_data"
    },
    {
     "data": {
      "text/plain": [
       "<Figure size 432x288 with 0 Axes>"
      ]
     },
     "execution_count": 19,
     "metadata": {},
     "output_type": "execute_result"
    },
    {
     "data": {
      "text/plain": [
       "<Figure size 432x288 with 0 Axes>"
      ]
     },
     "metadata": {},
     "output_type": "display_data"
    }
   ],
   "source": [
    "plt.plot(range(1, epochs_dnn + 1), dnn_fit.history['loss'], color='red', linestyle='dashed', linewidth=1.4, label='training')\n",
    "plt.plot(range(1, epochs_dnn + 1), dnn_fit.history['val_loss'], color='orange', linestyle='dashed', linewidth=1.4, label='validation')\n",
    "plt.grid(color='#ADD8E6', linestyle='-', linewidth=0.6)\n",
    "plt.title('Comparison of training and validation loss')\n",
    "plt.xlabel('Number of epochs')\n",
    "plt.ylabel('Loss')\n",
    "plt.legend(loc='upper right')\n",
    "plt.savefig('dnn_train_vs_val_loss.jpg', format='jpg', dpi=1000)\n",
    "plt.show()\n",
    "plt.figure()"
   ]
  },
  {
   "cell_type": "markdown",
   "metadata": {},
   "source": [
    "### Comparing accuracy for training and validation sets"
   ]
  },
  {
   "cell_type": "code",
   "execution_count": 20,
   "metadata": {},
   "outputs": [
    {
     "data": {
      "image/png": "[encoded data removed]",
      "text/plain": [
       "<Figure size 432x288 with 1 Axes>"
      ]
     },
     "metadata": {
      "needs_background": "light"
     },
     "output_type": "display_data"
    },
    {
     "data": {
      "text/plain": [
       "<Figure size 432x288 with 0 Axes>"
      ]
     },
     "execution_count": 20,
     "metadata": {},
     "output_type": "execute_result"
    },
    {
     "data": {
      "text/plain": [
       "<Figure size 432x288 with 0 Axes>"
      ]
     },
     "metadata": {},
     "output_type": "display_data"
    }
   ],
   "source": [
    "plt.plot(range(1, epochs_dnn + 1), dnn_fit.history['acc'], color='red', linestyle='dashed', linewidth=1.4, label='training')\n",
    "plt.plot(range(1, epochs_dnn + 1), dnn_fit.history['val_acc'], color='orange', linestyle='dashed', linewidth=1.4, label='validation')\n",
    "plt.grid(color='#ADD8E6', linestyle='-', linewidth=0.6)\n",
    "plt.title('Comparison of training and validation accuracy')\n",
    "plt.xlabel('Number of epochs')\n",
    "plt.ylabel('Accuracy')\n",
    "plt.legend(loc='lower right')\n",
    "plt.savefig('dnn_train_vs_val_accuracy.jpg', format='jpg', dpi=1000)\n",
    "plt.show()\n",
    "plt.figure()"
   ]
  },
  {
   "cell_type": "markdown",
   "metadata": {},
   "source": [
    "### Predicting output labels for test data"
   ]
  },
  {
   "cell_type": "code",
   "execution_count": 21,
   "metadata": {},
   "outputs": [],
   "source": [
    "Y_pred_dnn = dnn.predict(X_test_dnn).argmax(axis=1)\n",
    "\n",
    "# reshaping Y_pred_dnn to get rid of rank 1 Python arrays\n",
    "Y_pred_dnn = Y_pred_dnn.reshape(Y_pred_dnn.shape[0], 1)"
   ]
  },
  {
   "cell_type": "markdown",
   "metadata": {},
   "source": [
    "### Evaluating the DNN model"
   ]
  },
  {
   "cell_type": "code",
   "execution_count": 22,
   "metadata": {
    "scrolled": true
   },
   "outputs": [
    {
     "name": "stdout",
     "output_type": "stream",
     "text": [
      "ANALYSIS FOR MULTI-LAYER FULLY CONNECTED NEURAL NETWORK\n",
      "\n",
      "Accuracy on the test set - 0.8828 \n",
      "\n",
      "Confusion Matrix for performance on the test set -\n",
      " [[844   2   8  24   7   3 101   0  11   0]\n",
      " [  5 968   0  22   3   0   1   0   1   0]\n",
      " [ 19   0 725  12 156   0  85   0   3   0]\n",
      " [ 19   7   9 895  40   0  25   0   5   0]\n",
      " [  0   1  50  24 870   0  51   0   4   0]\n",
      " [  0   0   0   1   0 960   0  24   2  13]\n",
      " [130   1  61  31  76   0 685   0  16   0]\n",
      " [  0   0   0   0   0  18   0 955   0  27]\n",
      " [  8   0   1   3   5   1   4   5 973   0]\n",
      " [  0   0   0   1   0   9   1  36   0 953]]\n"
     ]
    }
   ],
   "source": [
    "print(\"ANALYSIS FOR MULTI-LAYER FULLY CONNECTED NEURAL NETWORK\\n\")\n",
    "\n",
    "print(\"Accuracy on the test set -\", get_accuracy(Y_test, Y_pred_dnn), \"\\n\")\n",
    "print(\"Confusion Matrix for performance on the test set -\\n\", get_confusion_matrix(Y_test, Y_pred_dnn))"
   ]
  },
  {
   "cell_type": "markdown",
   "metadata": {},
   "source": [
    "## Task 3: Implementing Convolutional Neural Network using Keras"
   ]
  },
  {
   "cell_type": "markdown",
   "metadata": {},
   "source": [
    "### Preprocessing the dataset"
   ]
  },
  {
   "cell_type": "code",
   "execution_count": 23,
   "metadata": {},
   "outputs": [],
   "source": [
    "# minmax scaling of the features to the range [0, 1]\n",
    "X_train_cnn = X_train / 255.0\n",
    "X_test_cnn = X_test / 255.0"
   ]
  },
  {
   "cell_type": "markdown",
   "metadata": {},
   "source": [
    "### Reshaping the training data to include number of channels"
   ]
  },
  {
   "cell_type": "code",
   "execution_count": 24,
   "metadata": {},
   "outputs": [],
   "source": [
    "X_train_cnn = np.array(X_train_cnn).reshape(X_train.shape[0], 28, 28, 1)\n",
    "X_test_cnn = np.array(X_test_cnn).reshape(X_test.shape[0], 28, 28, 1)"
   ]
  },
  {
   "cell_type": "markdown",
   "metadata": {},
   "source": [
    "### Defining hyperparameters for training the network"
   ]
  },
  {
   "cell_type": "code",
   "execution_count": 25,
   "metadata": {},
   "outputs": [],
   "source": [
    "# number of epochs for training\n",
    "epochs_cnn = 10\n",
    "\n",
    "# mini-batch size\n",
    "minibatch_size_cnn = 64\n",
    "\n",
    "# learning rate of the optimizer\n",
    "lr_cnn = 0.001"
   ]
  },
  {
   "cell_type": "markdown",
   "metadata": {},
   "source": [
    "### Defining the convolutional neural network architecture"
   ]
  },
  {
   "cell_type": "code",
   "execution_count": 26,
   "metadata": {},
   "outputs": [
    {
     "name": "stdout",
     "output_type": "stream",
     "text": [
      "WARNING:tensorflow:From /home/nskarthik/anaconda3/lib/python3.7/site-packages/keras/backend/tensorflow_backend.py:3445: calling dropout (from tensorflow.python.ops.nn_ops) with keep_prob is deprecated and will be removed in a future version.\n",
      "Instructions for updating:\n",
      "Please use `rate` instead of `keep_prob`. Rate should be set to `rate = 1 - keep_prob`.\n",
      "WARNING:tensorflow:From /home/nskarthik/anaconda3/lib/python3.7/site-packages/keras/backend/tensorflow_backend.py:3976: The name tf.nn.max_pool is deprecated. Please use tf.nn.max_pool2d instead.\n",
      "\n",
      "_________________________________________________________________\n",
      "Layer (type)                 Output Shape              Param #   \n",
      "=================================================================\n",
      "conv2d_1 (Conv2D)            (None, 28, 28, 64)        640       \n",
      "_________________________________________________________________\n",
      "dropout_1 (Dropout)          (None, 28, 28, 64)        0         \n",
      "_________________________________________________________________\n",
      "max_pooling2d_1 (MaxPooling2 (None, 14, 14, 64)        0         \n",
      "_________________________________________________________________\n",
      "conv2d_2 (Conv2D)            (None, 14, 14, 32)        18464     \n",
      "_________________________________________________________________\n",
      "dropout_2 (Dropout)          (None, 14, 14, 32)        0         \n",
      "_________________________________________________________________\n",
      "max_pooling2d_2 (MaxPooling2 (None, 7, 7, 32)          0         \n",
      "_________________________________________________________________\n",
      "flatten_2 (Flatten)          (None, 1568)              0         \n",
      "_________________________________________________________________\n",
      "dense_5 (Dense)              (None, 256)               401664    \n",
      "_________________________________________________________________\n",
      "dense_6 (Dense)              (None, 10)                2570      \n",
      "=================================================================\n",
      "Total params: 423,338\n",
      "Trainable params: 423,338\n",
      "Non-trainable params: 0\n",
      "_________________________________________________________________\n"
     ]
    }
   ],
   "source": [
    "cnn = keras.Sequential()\n",
    "\n",
    "cnn.add(keras.layers.Conv2D(filters=64, kernel_size=3, activation=\"relu\", padding=\"same\", input_shape=(28, 28, 1)))\n",
    "cnn.add(keras.layers.Dropout(0.2))\n",
    "cnn.add(keras.layers.MaxPooling2D(pool_size = 2, padding=\"valid\"))\n",
    "cnn.add(keras.layers.Conv2D(filters=32, kernel_size=3, activation=\"relu\", padding=\"same\"))\n",
    "cnn.add(keras.layers.Dropout(0.2))\n",
    "cnn.add(keras.layers.MaxPooling2D(pool_size = 2, padding=\"valid\"))\n",
    "cnn.add(keras.layers.Flatten())\n",
    "cnn.add(keras.layers.Dense(256, activation='relu'))\n",
    "cnn.add(keras.layers.Dense(10, activation='softmax'))\n",
    "\n",
    "# display the neural network architecture\n",
    "cnn.summary()"
   ]
  },
  {
   "cell_type": "markdown",
   "metadata": {},
   "source": [
    "### Compiling the model"
   ]
  },
  {
   "cell_type": "code",
   "execution_count": 27,
   "metadata": {},
   "outputs": [],
   "source": [
    "# defining the optimizer\n",
    "optimizer = keras.optimizers.Adam(lr=lr_cnn)\n",
    "\n",
    "cnn.compile(\n",
    "    loss='sparse_categorical_crossentropy',\n",
    "    optimizer=optimizer,\n",
    "    metrics=['accuracy'])\n",
    "\n",
    "# using tensorboard to visualize the model and its performance\n",
    "# tensorboard_callback_cnn = keras.callbacks.TensorBoard(log_dir=\"tensorboard/cnn\", histogram_freq=1)\n",
    "# %tensorboard --logdir tensorboard/dnn"
   ]
  },
  {
   "cell_type": "markdown",
   "metadata": {},
   "source": [
    "### Training the model"
   ]
  },
  {
   "cell_type": "code",
   "execution_count": 28,
   "metadata": {},
   "outputs": [
    {
     "name": "stdout",
     "output_type": "stream",
     "text": [
      "Train on 60000 samples, validate on 10000 samples\n",
      "Epoch 1/10\n",
      "60000/60000 [==============================] - 158s 3ms/step - loss: 0.4269 - acc: 0.8463 - val_loss: 0.3453 - val_acc: 0.8823\n",
      "Epoch 2/10\n",
      "60000/60000 [==============================] - 155s 3ms/step - loss: 0.2860 - acc: 0.8955 - val_loss: 0.2959 - val_acc: 0.8972\n",
      "Epoch 3/10\n",
      "60000/60000 [==============================] - 154s 3ms/step - loss: 0.2458 - acc: 0.9102 - val_loss: 0.2732 - val_acc: 0.9062\n",
      "Epoch 4/10\n",
      "60000/60000 [==============================] - 151s 3ms/step - loss: 0.2184 - acc: 0.9187 - val_loss: 0.2520 - val_acc: 0.9082\n",
      "Epoch 5/10\n",
      "60000/60000 [==============================] - 152s 3ms/step - loss: 0.1968 - acc: 0.9267 - val_loss: 0.2252 - val_acc: 0.9168\n",
      "Epoch 6/10\n",
      "60000/60000 [==============================] - 152s 3ms/step - loss: 0.1782 - acc: 0.9328 - val_loss: 0.2328 - val_acc: 0.9182\n",
      "Epoch 7/10\n",
      "60000/60000 [==============================] - 151s 3ms/step - loss: 0.1621 - acc: 0.9398 - val_loss: 0.2304 - val_acc: 0.9158\n",
      "Epoch 8/10\n",
      "60000/60000 [==============================] - 151s 3ms/step - loss: 0.1434 - acc: 0.9460 - val_loss: 0.2280 - val_acc: 0.9178\n",
      "Epoch 9/10\n",
      "60000/60000 [==============================] - 151s 3ms/step - loss: 0.1326 - acc: 0.9501 - val_loss: 0.2187 - val_acc: 0.9204\n",
      "Epoch 10/10\n",
      "60000/60000 [==============================] - 151s 3ms/step - loss: 0.1196 - acc: 0.9550 - val_loss: 0.2367 - val_acc: 0.9199\n"
     ]
    }
   ],
   "source": [
    "cnn_fit = cnn.fit(\n",
    "    X_train_cnn,\n",
    "    Y_train,\n",
    "    batch_size = minibatch_size_cnn,\n",
    "    epochs=epochs_cnn,\n",
    "    validation_data=(X_test_cnn, Y_test))\n",
    "    # callbacks=[tensorboard_callback_cnn])"
   ]
  },
  {
   "cell_type": "markdown",
   "metadata": {},
   "source": [
    "### Comparing loss for training and validation sets"
   ]
  },
  {
   "cell_type": "code",
   "execution_count": 29,
   "metadata": {},
   "outputs": [
    {
     "data": {
      "image/png": "[encoded data removed]",
      "text/plain": [
       "<Figure size 432x288 with 1 Axes>"
      ]
     },
     "metadata": {
      "needs_background": "light"
     },
     "output_type": "display_data"
    },
    {
     "data": {
      "text/plain": [
       "<Figure size 432x288 with 0 Axes>"
      ]
     },
     "execution_count": 29,
     "metadata": {},
     "output_type": "execute_result"
    },
    {
     "data": {
      "text/plain": [
       "<Figure size 432x288 with 0 Axes>"
      ]
     },
     "metadata": {},
     "output_type": "display_data"
    }
   ],
   "source": [
    "plt.plot(range(1, epochs_cnn + 1), cnn_fit.history['loss'], color='red', linestyle='dashed', linewidth=1.4, label='training')\n",
    "plt.plot(range(1, epochs_cnn + 1), cnn_fit.history['val_loss'], color='orange', linestyle='dashed', linewidth=1.4, label='validation')\n",
    "plt.grid(color='#ADD8E6', linestyle='-', linewidth=0.6)\n",
    "plt.title('Comparison of training and validation loss')\n",
    "plt.xlabel('Number of epochs')\n",
    "plt.ylabel('Loss')\n",
    "plt.legend(loc='upper right')\n",
    "plt.savefig('cnn_train_vs_val_loss.jpg', format='jpg', dpi=1000)\n",
    "plt.show()\n",
    "plt.figure()"
   ]
  },
  {
   "cell_type": "markdown",
   "metadata": {},
   "source": [
    "### Comparing accuracy for training and validation sets"
   ]
  },
  {
   "cell_type": "code",
   "execution_count": 30,
   "metadata": {},
   "outputs": [
    {
     "data": {
      "image/png": "[encoded data removed]",
      "text/plain": [
       "<Figure size 432x288 with 1 Axes>"
      ]
     },
     "metadata": {
      "needs_background": "light"
     },
     "output_type": "display_data"
    },
    {
     "data": {
      "text/plain": [
       "<Figure size 432x288 with 0 Axes>"
      ]
     },
     "execution_count": 30,
     "metadata": {},
     "output_type": "execute_result"
    },
    {
     "data": {
      "text/plain": [
       "<Figure size 432x288 with 0 Axes>"
      ]
     },
     "metadata": {},
     "output_type": "display_data"
    }
   ],
   "source": [
    "plt.plot(range(1, epochs_cnn + 1), cnn_fit.history['acc'], color='red', linestyle='dashed', linewidth=1.4, label='training')\n",
    "plt.plot(range(1, epochs_cnn + 1), cnn_fit.history['val_acc'], color='orange', linestyle='dashed', linewidth=1.4, label='validation')\n",
    "plt.grid(color='#ADD8E6', linestyle='-', linewidth=0.6)\n",
    "plt.title('Comparison of training and validation accuracy')\n",
    "plt.xlabel('Number of epochs')\n",
    "plt.ylabel('Accuracy')\n",
    "plt.legend(loc='lower right')\n",
    "plt.savefig('cnn_train_vs_val_accuracy.jpg', format='jpg', dpi=1000)\n",
    "plt.show()\n",
    "plt.figure()"
   ]
  },
  {
   "cell_type": "markdown",
   "metadata": {},
   "source": [
    "### Predicting output labels for test data"
   ]
  },
  {
   "cell_type": "code",
   "execution_count": 31,
   "metadata": {},
   "outputs": [],
   "source": [
    "Y_pred_cnn = cnn.predict(X_test_cnn).argmax(axis=1)\n",
    "\n",
    "# reshaping Y_pred_dnn to get rid of rank 1 Python arrays\n",
    "Y_pred_cnn = Y_pred_cnn.reshape(Y_pred_cnn.shape[0], 1)"
   ]
  },
  {
   "cell_type": "markdown",
   "metadata": {},
   "source": [
    "### Evaluating the CNN model"
   ]
  },
  {
   "cell_type": "code",
   "execution_count": 32,
   "metadata": {},
   "outputs": [
    {
     "name": "stdout",
     "output_type": "stream",
     "text": [
      "ANALYSIS FOR CONVOLUTIONAL NEURAL NETWORK\n",
      "\n",
      "Accuracy on the test set - 0.9199 \n",
      "\n",
      "Confusion Matrix for performance on the test set -\n",
      " [[893   0  25  13   5   1  60   0   3   0]\n",
      " [  4 981   2   8   3   0   0   0   2   0]\n",
      " [ 19   1 906   5  45   0  24   0   0   0]\n",
      " [ 24   1  17 915  31   0  11   0   1   0]\n",
      " [  1   0  55  11 912   0  21   0   0   0]\n",
      " [  0   0   0   0   0 981   0  12   0   7]\n",
      " [128   0  70  20  95   0 681   0   6   0]\n",
      " [  0   0   0   0   0   6   0 977   0  17]\n",
      " [  5   0   2   3   1   1   0   1 987   0]\n",
      " [  1   0   0   0   0   4   0  29   0 966]]\n"
     ]
    }
   ],
   "source": [
    "print(\"ANALYSIS FOR CONVOLUTIONAL NEURAL NETWORK\\n\")\n",
    "\n",
    "print(\"Accuracy on the test set -\", get_accuracy(Y_test, Y_pred_cnn), \"\\n\")\n",
    "print(\"Confusion Matrix for performance on the test set -\\n\", get_confusion_matrix(Y_test, Y_pred_cnn))"
   ]
  }
 ],
 "metadata": {
  "kernelspec": {
   "display_name": "Python 3",
   "language": "python",
   "name": "python3"
  },
  "language_info": {
   "codemirror_mode": {
    "name": "ipython",
    "version": 3
   },
   "file_extension": ".py",
   "mimetype": "text/x-python",
   "name": "python",
   "nbconvert_exporter": "python",
   "pygments_lexer": "ipython3",
   "version": "3.7.3"
  }
 },
 "nbformat": 4,
 "nbformat_minor": 2
}
